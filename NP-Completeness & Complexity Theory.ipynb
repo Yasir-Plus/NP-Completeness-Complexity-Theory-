{
 "cells": [
  {
   "cell_type": "code",
   "execution_count": 1,
   "id": "e1febddb-c325-4843-90a0-6c0be7287bb1",
   "metadata": {},
   "outputs": [
    {
     "name": "stdout",
     "output_type": "stream",
     "text": [
      "Subset Sum Result: False\n"
     ]
    }
   ],
   "source": [
    "def reduce_three_sum_to_subset_sum(arr, target):\n",
    "    return arr, target  # Same instance passed to subset sum\n",
    "\n",
    "def subset_sum(arr, target):\n",
    "    n = len(arr)\n",
    "    dp = [[False]*(target+1) for _ in range(n+1)]\n",
    "    for i in range(n+1):\n",
    "        dp[i][0] = True\n",
    "    for i in range(1, n+1):\n",
    "        for j in range(1, target+1):\n",
    "            if arr[i-1] <= j:\n",
    "                dp[i][j] = dp[i-1][j] or dp[i-1][j - arr[i-1]]\n",
    "            else:\n",
    "                dp[i][j] = dp[i-1][j]\n",
    "    return dp[n][target]\n",
    "\n",
    "arr = [2, 4, 5, 7]\n",
    "target = 10\n",
    "new_instance = reduce_three_sum_to_subset_sum(arr, target)\n",
    "print(\"Subset Sum Result:\", subset_sum(*new_instance))\n"
   ]
  },
  {
   "cell_type": "code",
   "execution_count": 2,
   "id": "26b1e161-3da7-4b14-94bd-eff86cd3fe58",
   "metadata": {},
   "outputs": [
    {
     "name": "stdout",
     "output_type": "stream",
     "text": [
      "Generated Graph Nodes: [[(1, 'x1'), (2, '¬x2'), (3, 'x3)')], [(4, '(¬x1'), (5, 'x2'), (6, '¬x3')]]\n"
     ]
    }
   ],
   "source": [
    "def sat_to_graph_clique(sat_formula):\n",
    "    clauses = sat_formula.split('∧')\n",
    "    graph = []\n",
    "    node_id = 0\n",
    "    for clause in clauses:\n",
    "        literals = clause.strip('()').split('∨')\n",
    "        clause_nodes = []\n",
    "        for lit in literals:\n",
    "            node_id += 1\n",
    "            clause_nodes.append((node_id, lit.strip()))\n",
    "        graph.append(clause_nodes)\n",
    "    return graph  # Simplified representation of graph construction\n",
    "\n",
    "# Example usage:\n",
    "sat = \"(x1 ∨ ¬x2 ∨ x3) ∧ (¬x1 ∨ x2 ∨ ¬x3)\"\n",
    "graph_instance = sat_to_graph_clique(sat)\n",
    "print(\"Generated Graph Nodes:\", graph_instance)\n"
   ]
  },
  {
   "cell_type": "code",
   "execution_count": 4,
   "id": "f5dd5f8b-4277-41e3-9ca7-c85f0e6c8d94",
   "metadata": {},
   "outputs": [],
   "source": [
    "def encode_ntm_to_sat(ntm, input_str):\n",
    "    clauses = []\n",
    "    for t in range(max_steps):\n",
    "        for cell in range(tape_length):\n",
    "            for symbol in symbols:\n",
    "                var = f\"x_{t}_{cell}_{symbol}\"\n",
    "                clauses.append(var)\n",
    "    # Add initial, transition, and accept constraints\n",
    "    return clauses\n"
   ]
  },
  {
   "cell_type": "code",
   "execution_count": null,
   "id": "7808acf5-74b3-4761-89f0-3bfb94f1700e",
   "metadata": {},
   "outputs": [],
   "source": []
  }
 ],
 "metadata": {
  "kernelspec": {
   "display_name": "Python [conda env:base] *",
   "language": "python",
   "name": "conda-base-py"
  },
  "language_info": {
   "codemirror_mode": {
    "name": "ipython",
    "version": 3
   },
   "file_extension": ".py",
   "mimetype": "text/x-python",
   "name": "python",
   "nbconvert_exporter": "python",
   "pygments_lexer": "ipython3",
   "version": "3.13.5"
  }
 },
 "nbformat": 4,
 "nbformat_minor": 5
}
